{
 "cells": [
  {
   "cell_type": "markdown",
   "metadata": {
    "deletable": true,
    "editable": true
   },
   "source": [
    "# Getting and Cleaning Data"
   ]
  },
  {
   "cell_type": "raw",
   "metadata": {
    "collapsed": true,
    "deletable": true,
    "editable": true
   },
   "source": [
    "This notebook gives an introduction to getting raw data in JSON format and converting it to a format that is easily\n",
    "understandable by libraries such as Pandas and NumPy. We clean the data and demonstrate how to deal with missing values.\n",
    "Outline:\n",
    "    Get raw JSON data\n",
    "    Visualize data\n",
    "    Load data to pandas Dataframe\n",
    "    Handle missing values using various methods\n",
    "    Detect and remove outliers\n",
    "    Correlation\n",
    "    Plot heatmap for correlation\n",
    "    Statistical analysis\n",
    "    Percentile and Quantile"
   ]
  },
  {
   "cell_type": "code",
   "execution_count": 1,
   "metadata": {
    "collapsed": false,
    "deletable": true,
    "editable": true
   },
   "outputs": [
    {
     "name": "stdout",
     "output_type": "stream",
     "text": [
      "Reading data...\n",
      "done\n"
     ]
    }
   ],
   "source": [
    "# Get beer reviews data from Prof. Julian McAuley's website (UC San Diego)\n",
    "# http://jmcauley.ucsd.edu/cse190/data/beer/beer_50000.json\n",
    "import numpy as np\n",
    "import urllib.request\n",
    "\n",
    "def parseData(fname):\n",
    "  for l in urllib.request.urlopen(fname):\n",
    "    yield eval(l)\n",
    "# Yield is a keyword that is used like return, except the function will return a generator.\n",
    "# Refer - http://stackoverflow.com/questions/231767/what-does-the-yield-keyword-do-in-python for more details on this keyword\n",
    "\n",
    "print (\"Reading data...\")\n",
    "data = list(parseData(\"http://jmcauley.ucsd.edu/cse190/data/beer/beer_50000.json\"))\n",
    "print (\"done\")"
   ]
  },
  {
   "cell_type": "code",
   "execution_count": 2,
   "metadata": {
    "collapsed": false,
    "deletable": true,
    "editable": true
   },
   "outputs": [
    {
     "data": {
      "text/plain": [
       "{'beer/ABV': 6.2,\n",
       " 'beer/beerId': '48213',\n",
       " 'beer/brewerId': '10325',\n",
       " 'beer/name': 'Red Moon',\n",
       " 'beer/style': 'English Strong Ale',\n",
       " 'review/appearance': 3.0,\n",
       " 'review/aroma': 2.5,\n",
       " 'review/overall': 3.0,\n",
       " 'review/palate': 3.0,\n",
       " 'review/taste': 3.0,\n",
       " 'review/text': 'Dark red color, light beige foam, average.\\tIn the smell malt and caramel, not really light.\\tAgain malt and caramel in the taste, not bad in the end.\\tMaybe a note of honey in teh back, and a light fruitiness.\\tAverage body.\\tIn the aftertaste a light bitterness, with the malt and red fruit.\\tNothing exceptional, but not bad, drinkable beer.',\n",
       " 'review/timeStruct': {'hour': 13,\n",
       "  'isdst': 0,\n",
       "  'mday': 1,\n",
       "  'min': 44,\n",
       "  'mon': 3,\n",
       "  'sec': 57,\n",
       "  'wday': 6,\n",
       "  'yday': 60,\n",
       "  'year': 2009},\n",
       " 'review/timeUnix': 1235915097,\n",
       " 'user/profileName': 'stcules'}"
      ]
     },
     "execution_count": 2,
     "metadata": {},
     "output_type": "execute_result"
    }
   ],
   "source": [
    "# 'data' variable now contains JSON data\n",
    "data[1]"
   ]
  },
  {
   "cell_type": "code",
   "execution_count": 3,
   "metadata": {
    "collapsed": false,
    "deletable": true,
    "editable": true
   },
   "outputs": [
    {
     "data": {
      "text/plain": [
       "50000"
      ]
     },
     "execution_count": 3,
     "metadata": {},
     "output_type": "execute_result"
    }
   ],
   "source": [
    "# Number of beer reviews that we have\n",
    "len(data)"
   ]
  },
  {
   "cell_type": "code",
   "execution_count": 4,
   "metadata": {
    "collapsed": false,
    "deletable": true,
    "editable": true
   },
   "outputs": [
    {
     "data": {
      "text/plain": [
       "14"
      ]
     },
     "execution_count": 4,
     "metadata": {},
     "output_type": "execute_result"
    }
   ],
   "source": [
    "# Number of features\n",
    "# Does not count the number of sub-features (or nested features). E.g. - mday, min, mon, sec etc \n",
    "len(data[0])"
   ]
  },
  {
   "cell_type": "markdown",
   "metadata": {
    "deletable": true,
    "editable": true
   },
   "source": [
    "# Visualize Data"
   ]
  },
  {
   "cell_type": "code",
   "execution_count": 5,
   "metadata": {
    "collapsed": false,
    "deletable": true,
    "editable": true
   },
   "outputs": [],
   "source": [
    "# Restricting number of samples for simplicity and quick execution\n",
    "import random\n",
    "random.shuffle(data) # Shuffle the data so that we are more likely to get a true picture of the data\n",
    "data = data[:5000]"
   ]
  },
  {
   "cell_type": "code",
   "execution_count": 6,
   "metadata": {
    "collapsed": false,
    "deletable": true,
    "editable": true
   },
   "outputs": [
    {
     "data": {
      "image/png": "[encoded data removed]",
      "text/plain": [
       "<matplotlib.figure.Figure at 0x24c03808860>"
      ]
     },
     "metadata": {},
     "output_type": "display_data"
    }
   ],
   "source": [
    "# Taking just two features and plotting them\n",
    "# This will also give us an idea if the two features taken are somehow correlated\n",
    "\n",
    "import matplotlib.pyplot as plt\n",
    "\n",
    "x = [d['beer/ABV'] for d in data]\n",
    "y = [d['review/overall'] for d in data]\n",
    "plt.scatter(x,y) \n",
    "plt.show()"
   ]
  },
  {
   "cell_type": "code",
   "execution_count": 7,
   "metadata": {
    "collapsed": false,
    "deletable": true,
    "editable": true
   },
   "outputs": [
    {
     "data": {
      "image/png": "[encoded data removed]",
      "text/plain": [
       "<matplotlib.figure.Figure at 0x24c037b5588>"
      ]
     },
     "metadata": {},
     "output_type": "display_data"
    }
   ],
   "source": [
    "# We used scatter, because a normal plot wouldn't have made much sense\n",
    "plt.plot(x,y) \n",
    "plt.show()"
   ]
  },
  {
   "cell_type": "code",
   "execution_count": 8,
   "metadata": {
    "collapsed": false,
    "deletable": true,
    "editable": true
   },
   "outputs": [
    {
     "data": {
      "image/png": "[encoded data removed]",
      "text/plain": [
       "<matplotlib.figure.Figure at 0x24c075d5908>"
      ]
     },
     "metadata": {},
     "output_type": "display_data"
    }
   ],
   "source": [
    "# Okay, so they were not correlated much.\n",
    "# Taste should be a better indication of the overall rating, right?\n",
    "\n",
    "x = [d['review/taste'] for d in data]\n",
    "y = [d['review/overall'] for d in data]\n",
    "plt.scatter(x,y)\n",
    "plt.show()\n",
    "# Bingo! More positive correlation than the last case for sure!"
   ]
  },
  {
   "cell_type": "markdown",
   "metadata": {
    "deletable": true,
    "editable": true
   },
   "source": [
    "Let's assume that we need just ABV (Alcohol By Volume) and the overall beer rating"
   ]
  },
  {
   "cell_type": "code",
   "execution_count": null,
   "metadata": {
    "collapsed": true,
    "deletable": true,
    "editable": true
   },
   "outputs": [],
   "source": [
    "# How scikit-learn expects data?\n",
    "# X = input - set of features that we have\n",
    "# y = output - the prediction that we need to make (can be real valued or discrete)\n",
    "# e.g. - Given an email, predict spam (1) or not spam (0). Here X = email, y = spam/not spam: Classification Problem\n",
    "# e.g. - Given area of the house in square feet, predict the price of the house\n",
    "# X = area in square feet, y = Price: Regression Problem"
   ]
  },
  {
   "cell_type": "code",
   "execution_count": 9,
   "metadata": {
    "collapsed": true,
    "deletable": true,
    "editable": true
   },
   "outputs": [],
   "source": [
    "# What if ABV values is missing from some reviews?\n",
    "X = [d['beer/ABV'] if 'beer/ABV' in d else 5 for d in data] # Replace the value by 5 whereever ABV value is missing\n",
    "y = [d['review/overall'] for d in data]"
   ]
  },
  {
   "cell_type": "code",
   "execution_count": 10,
   "metadata": {
    "collapsed": true,
    "deletable": true,
    "editable": true
   },
   "outputs": [],
   "source": [
    "# Better would be to substitute by mean\n",
    "\n",
    "# find the mean\n",
    "sum_abv = 0.0\n",
    "for d in data:\n",
    "    if 'beer/ABV' in d:\n",
    "        sum_abv += d['beer/ABV']\n",
    "mean_abv = sum_abv/len(data)\n",
    "\n",
    "X = [d['beer/ABV'] if 'beer/ABV' in d else mean_abv for d in data]\n",
    "y = [d['review/overall'] for d in data]"
   ]
  },
  {
   "cell_type": "markdown",
   "metadata": {
    "deletable": true,
    "editable": true
   },
   "source": [
    "Load data to Pandas Dataframe"
   ]
  },
  {
   "cell_type": "code",
   "execution_count": 11,
   "metadata": {
    "collapsed": false,
    "deletable": true,
    "editable": true
   },
   "outputs": [],
   "source": [
    "import pandas\n",
    "\n",
    "pd_df = pandas.DataFrame(data)\n",
    "pd_df = pd_df[:5000]"
   ]
  },
  {
   "cell_type": "code",
   "execution_count": 13,
   "metadata": {
    "collapsed": false
   },
   "outputs": [
    {
     "data": {
      "text/html": [
       "<div>\n",
       "<style>\n",
       "    .dataframe thead tr:only-child th {\n",
       "        text-align: right;\n",
       "    }\n",
       "\n",
       "    .dataframe thead th {\n",
       "        text-align: left;\n",
       "    }\n",
       "\n",
       "    .dataframe tbody tr th {\n",
       "        vertical-align: top;\n",
       "    }\n",
       "</style>\n",
       "<table border=\"1\" class=\"dataframe\">\n",
       "  <thead>\n",
       "    <tr style=\"text-align: right;\">\n",
       "      <th></th>\n",
       "      <th>beer/ABV</th>\n",
       "      <th>review/appearance</th>\n",
       "      <th>review/aroma</th>\n",
       "      <th>review/overall</th>\n",
       "      <th>review/palate</th>\n",
       "      <th>review/taste</th>\n",
       "      <th>review/timeUnix</th>\n",
       "      <th>user/ageInSeconds</th>\n",
       "      <th>user/birthdayUnix</th>\n",
       "    </tr>\n",
       "  </thead>\n",
       "  <tbody>\n",
       "    <tr>\n",
       "      <th>beer/ABV</th>\n",
       "      <td>1.000000</td>\n",
       "      <td>0.298047</td>\n",
       "      <td>0.402161</td>\n",
       "      <td>0.213024</td>\n",
       "      <td>0.364727</td>\n",
       "      <td>0.354051</td>\n",
       "      <td>0.248676</td>\n",
       "      <td>-0.076936</td>\n",
       "      <td>0.076936</td>\n",
       "    </tr>\n",
       "    <tr>\n",
       "      <th>review/appearance</th>\n",
       "      <td>0.298047</td>\n",
       "      <td>1.000000</td>\n",
       "      <td>0.552143</td>\n",
       "      <td>0.513950</td>\n",
       "      <td>0.552961</td>\n",
       "      <td>0.532301</td>\n",
       "      <td>0.074706</td>\n",
       "      <td>0.004347</td>\n",
       "      <td>-0.004347</td>\n",
       "    </tr>\n",
       "    <tr>\n",
       "      <th>review/aroma</th>\n",
       "      <td>0.402161</td>\n",
       "      <td>0.552143</td>\n",
       "      <td>1.000000</td>\n",
       "      <td>0.619029</td>\n",
       "      <td>0.623076</td>\n",
       "      <td>0.719666</td>\n",
       "      <td>0.118795</td>\n",
       "      <td>-0.047108</td>\n",
       "      <td>0.047108</td>\n",
       "    </tr>\n",
       "    <tr>\n",
       "      <th>review/overall</th>\n",
       "      <td>0.213024</td>\n",
       "      <td>0.513950</td>\n",
       "      <td>0.619029</td>\n",
       "      <td>1.000000</td>\n",
       "      <td>0.707736</td>\n",
       "      <td>0.793531</td>\n",
       "      <td>0.070238</td>\n",
       "      <td>-0.066917</td>\n",
       "      <td>0.066917</td>\n",
       "    </tr>\n",
       "    <tr>\n",
       "      <th>review/palate</th>\n",
       "      <td>0.364727</td>\n",
       "      <td>0.552961</td>\n",
       "      <td>0.623076</td>\n",
       "      <td>0.707736</td>\n",
       "      <td>1.000000</td>\n",
       "      <td>0.737102</td>\n",
       "      <td>0.094017</td>\n",
       "      <td>-0.056744</td>\n",
       "      <td>0.056744</td>\n",
       "    </tr>\n",
       "    <tr>\n",
       "      <th>review/taste</th>\n",
       "      <td>0.354051</td>\n",
       "      <td>0.532301</td>\n",
       "      <td>0.719666</td>\n",
       "      <td>0.793531</td>\n",
       "      <td>0.737102</td>\n",
       "      <td>1.000000</td>\n",
       "      <td>0.092397</td>\n",
       "      <td>-0.063502</td>\n",
       "      <td>0.063502</td>\n",
       "    </tr>\n",
       "    <tr>\n",
       "      <th>review/timeUnix</th>\n",
       "      <td>0.248676</td>\n",
       "      <td>0.074706</td>\n",
       "      <td>0.118795</td>\n",
       "      <td>0.070238</td>\n",
       "      <td>0.094017</td>\n",
       "      <td>0.092397</td>\n",
       "      <td>1.000000</td>\n",
       "      <td>-0.208158</td>\n",
       "      <td>0.208158</td>\n",
       "    </tr>\n",
       "    <tr>\n",
       "      <th>user/ageInSeconds</th>\n",
       "      <td>-0.076936</td>\n",
       "      <td>0.004347</td>\n",
       "      <td>-0.047108</td>\n",
       "      <td>-0.066917</td>\n",
       "      <td>-0.056744</td>\n",
       "      <td>-0.063502</td>\n",
       "      <td>-0.208158</td>\n",
       "      <td>1.000000</td>\n",
       "      <td>-1.000000</td>\n",
       "    </tr>\n",
       "    <tr>\n",
       "      <th>user/birthdayUnix</th>\n",
       "      <td>0.076936</td>\n",
       "      <td>-0.004347</td>\n",
       "      <td>0.047108</td>\n",
       "      <td>0.066917</td>\n",
       "      <td>0.056744</td>\n",
       "      <td>0.063502</td>\n",
       "      <td>0.208158</td>\n",
       "      <td>-1.000000</td>\n",
       "      <td>1.000000</td>\n",
       "    </tr>\n",
       "  </tbody>\n",
       "</table>\n",
       "</div>"
      ],
      "text/plain": [
       "                   beer/ABV  review/appearance  review/aroma  review/overall  \\\n",
       "beer/ABV           1.000000           0.298047      0.402161        0.213024   \n",
       "review/appearance  0.298047           1.000000      0.552143        0.513950   \n",
       "review/aroma       0.402161           0.552143      1.000000        0.619029   \n",
       "review/overall     0.213024           0.513950      0.619029        1.000000   \n",
       "review/palate      0.364727           0.552961      0.623076        0.707736   \n",
       "review/taste       0.354051           0.532301      0.719666        0.793531   \n",
       "review/timeUnix    0.248676           0.074706      0.118795        0.070238   \n",
       "user/ageInSeconds -0.076936           0.004347     -0.047108       -0.066917   \n",
       "user/birthdayUnix  0.076936          -0.004347      0.047108        0.066917   \n",
       "\n",
       "                   review/palate  review/taste  review/timeUnix  \\\n",
       "beer/ABV                0.364727      0.354051         0.248676   \n",
       "review/appearance       0.552961      0.532301         0.074706   \n",
       "review/aroma            0.623076      0.719666         0.118795   \n",
       "review/overall          0.707736      0.793531         0.070238   \n",
       "review/palate           1.000000      0.737102         0.094017   \n",
       "review/taste            0.737102      1.000000         0.092397   \n",
       "review/timeUnix         0.094017      0.092397         1.000000   \n",
       "user/ageInSeconds      -0.056744     -0.063502        -0.208158   \n",
       "user/birthdayUnix       0.056744      0.063502         0.208158   \n",
       "\n",
       "                   user/ageInSeconds  user/birthdayUnix  \n",
       "beer/ABV                   -0.076936           0.076936  \n",
       "review/appearance           0.004347          -0.004347  \n",
       "review/aroma               -0.047108           0.047108  \n",
       "review/overall             -0.066917           0.066917  \n",
       "review/palate              -0.056744           0.056744  \n",
       "review/taste               -0.063502           0.063502  \n",
       "review/timeUnix            -0.208158           0.208158  \n",
       "user/ageInSeconds           1.000000          -1.000000  \n",
       "user/birthdayUnix          -1.000000           1.000000  "
      ]
     },
     "execution_count": 13,
     "metadata": {},
     "output_type": "execute_result"
    }
   ],
   "source": [
    "pd_df.corr()"
   ]
  },
  {
   "cell_type": "code",
   "execution_count": null,
   "metadata": {
    "collapsed": false,
    "deletable": true,
    "editable": true
   },
   "outputs": [],
   "source": [
    "# Check if there are any values of ABV which are null/empty/NaN\n",
    "null_cols = pandas.isnull(pd_df['beer/ABV'])\n",
    "print (np.sum(null_cols == True))"
   ]
  },
  {
   "cell_type": "code",
   "execution_count": null,
   "metadata": {
    "collapsed": true,
    "deletable": true,
    "editable": true
   },
   "outputs": [],
   "source": [
    "# No review with invalid ABV value!"
   ]
  },
  {
   "cell_type": "code",
   "execution_count": null,
   "metadata": {
    "collapsed": false,
    "deletable": true,
    "editable": true
   },
   "outputs": [],
   "source": [
    "# What about reviewer's age?\n",
    "null_cols = pandas.isnull(pd_df['user/ageInSeconds'])\n",
    "print (np.sum(null_cols == True))"
   ]
  },
  {
   "cell_type": "code",
   "execution_count": null,
   "metadata": {
    "collapsed": false,
    "deletable": true,
    "editable": true
   },
   "outputs": [],
   "source": [
    "# short demonstration on how to handle missing data before we use it on Beer reviews data\n",
    "\n",
    "import pandas as pd\n",
    "\n",
    "# Dictionary with data of few famous TV series characters\n",
    "dict = {\"name\": [\"Jon\", \"Penny\", \"Ross\", \"Sansa\"],\n",
    "       \"age\": [25, 33, 41, None], # Note the 'None' here\n",
    "       \"gender\": ['M', 'F', 'M', 'F'] }\n",
    "\n",
    "tv_chars = pd.DataFrame(dict)\n",
    "print (tv_chars)"
   ]
  },
  {
   "cell_type": "code",
   "execution_count": null,
   "metadata": {
    "collapsed": false,
    "deletable": true,
    "editable": true
   },
   "outputs": [],
   "source": [
    "tv_chars.fillna(tv_chars.mean())\n",
    "# takes the mean of ages and puts it as Sansa's age!"
   ]
  },
  {
   "cell_type": "code",
   "execution_count": null,
   "metadata": {
    "collapsed": false,
    "deletable": true,
    "editable": true
   },
   "outputs": [],
   "source": [
    "# Or you can interpolate!\n",
    "\n",
    "dict = {\"name\": [\"Jon\", \"Penny\", \"Ross\", \"Sansa\"],\n",
    "       \"age\": [25, 33, 41, None], # Note the 'None' here\n",
    "       \"gender\": ['M', 'F', 'M', 'F'] }\n",
    "\n",
    "tv_chars = pd.DataFrame(dict)\n",
    "tv_chars.fillna(tv_chars.interpolate())\n",
    "\n",
    "# Note - output can be different than the one using mean()"
   ]
  },
  {
   "cell_type": "code",
   "execution_count": null,
   "metadata": {
    "collapsed": false,
    "deletable": true,
    "editable": true
   },
   "outputs": [],
   "source": [
    "# Back to the Beer reviews data we were looking at\n",
    "\n",
    "# Fill NA/NaN values using the specified method\n",
    "pd_df.fillna(0)\n",
    "# This method works in most cases, but should be avoided. Better ways to deal with null values are:\n",
    "# -> Fill with that column's mean\n",
    "# -> Drop the row altogether (provided null values constitute a small subset of the total sample size)"
   ]
  },
  {
   "cell_type": "code",
   "execution_count": null,
   "metadata": {
    "collapsed": false,
    "deletable": true,
    "editable": true
   },
   "outputs": [],
   "source": [
    "# Filling with column's mean\n",
    "pd_df.fillna(pd_df.mean())"
   ]
  },
  {
   "cell_type": "code",
   "execution_count": null,
   "metadata": {
    "collapsed": false,
    "deletable": true,
    "editable": true
   },
   "outputs": [],
   "source": [
    "# Seaborn is an interesting library which allows us to plot confusion matrices and heatmaps\n",
    "import seaborn as sns\n",
    "\n",
    "# Get all correlations\n",
    "corr = pd_df.corr()\n",
    "# Plot the heatmap\n",
    "corr_plot = sns.heatmap(corr, xticklabels=corr.columns.values, yticklabels=corr.columns.values).get_figure()\n",
    "# Save the figure on disk and view it\n",
    "corr_plot.savefig('./correlation_matrix.png', dpi=1024, bbox_inches='tight')"
   ]
  },
  {
   "cell_type": "raw",
   "metadata": {
    "deletable": true,
    "editable": true
   },
   "source": [
    "Finding and Removing Outliers"
   ]
  },
  {
   "cell_type": "code",
   "execution_count": null,
   "metadata": {
    "collapsed": false,
    "deletable": true,
    "editable": true
   },
   "outputs": [],
   "source": [
    "# Create example dataset of normally distributed data. \n",
    "df= pd.DataFrame({'Data':np.random.normal(size=200)})  \n",
    "\n",
    "# keep only the ones that are within +3 to -3 standard deviations in the column 'Data'.\n",
    "df[np.abs(df.Data-df.Data.mean())<=(3*df.Data.std())] \n",
    "\n",
    "# or if you prefer the other way around\n",
    "df[~(np.abs(df.Data-df.Data.mean())>(3*df.Data.std()))] "
   ]
  },
  {
   "cell_type": "raw",
   "metadata": {
    "deletable": true,
    "editable": true
   },
   "source": [
    "Some statistical analysis"
   ]
  },
  {
   "cell_type": "code",
   "execution_count": null,
   "metadata": {
    "collapsed": false,
    "deletable": true,
    "editable": true
   },
   "outputs": [],
   "source": [
    "import scipy\n",
    "import scipy.stats\n",
    "from scipy.stats import ttest_ind\n",
    "\n",
    "data = {'Category': ['cat2','cat1','cat2','cat1','cat2','cat1','cat2','cat1','cat1','cat1','cat2'],\n",
    "        'values': [1,2,3,1,2,3,1,2,3,5,1]}\n",
    "my_data = pd.DataFrame(data)\n",
    "my_data.groupby('Category').mean()\n",
    "\n",
    "# Finding p-values\n",
    "cat1 = my_data[my_data['Category']=='cat1']\n",
    "cat2 = my_data[my_data['Category']=='cat2']\n",
    "\n",
    "ttest_ind(cat1['values'], cat2['values'])"
   ]
  },
  {
   "cell_type": "code",
   "execution_count": null,
   "metadata": {
    "collapsed": false,
    "deletable": true,
    "editable": true
   },
   "outputs": [],
   "source": [
    "# Finding percentiles \n",
    "\n",
    "a = np.array([[10, 7, 4], [3, 2, 1]])\n",
    "print (a)"
   ]
  },
  {
   "cell_type": "code",
   "execution_count": null,
   "metadata": {
    "collapsed": false,
    "deletable": true,
    "editable": true
   },
   "outputs": [],
   "source": [
    "np.percentile(a, 50)"
   ]
  },
  {
   "cell_type": "code",
   "execution_count": null,
   "metadata": {
    "collapsed": false,
    "deletable": true,
    "editable": true
   },
   "outputs": [],
   "source": [
    "np.percentile(a, 50, axis=0)"
   ]
  },
  {
   "cell_type": "code",
   "execution_count": null,
   "metadata": {
    "collapsed": false,
    "deletable": true,
    "editable": true
   },
   "outputs": [],
   "source": [
    "np.percentile(a, 50, axis=1)"
   ]
  },
  {
   "cell_type": "code",
   "execution_count": null,
   "metadata": {
    "collapsed": false,
    "deletable": true,
    "editable": true
   },
   "outputs": [],
   "source": [
    "np.percentile(a, 50, axis=1, keepdims=True)"
   ]
  },
  {
   "cell_type": "code",
   "execution_count": null,
   "metadata": {
    "collapsed": false,
    "deletable": true,
    "editable": true
   },
   "outputs": [],
   "source": [
    "# Quantiles\n",
    "from pandas import DataFrame\n",
    "df = DataFrame(np.array([[1, 1], [2, 10], [3, 100], [4, 100]]),\n",
    "                   columns=['a', 'b'])\n",
    "print (df)\n",
    "df.quantile(.1)\n",
    "df.quantile([.1, .5])"
   ]
  }
 ],
 "metadata": {
  "anaconda-cloud": {},
  "kernelspec": {
   "display_name": "Python [default]",
   "language": "python",
   "name": "python3"
  },
  "language_info": {
   "codemirror_mode": {
    "name": "ipython",
    "version": 3
   },
   "file_extension": ".py",
   "mimetype": "text/x-python",
   "name": "python",
   "nbconvert_exporter": "python",
   "pygments_lexer": "ipython3",
   "version": "3.5.3"
  }
 },
 "nbformat": 4,
 "nbformat_minor": 0
}
