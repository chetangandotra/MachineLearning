{
 "cells": [
  {
   "cell_type": "markdown",
   "metadata": {},
   "source": [
    "# Classification with Generative Models"
   ]
  },
  {
   "cell_type": "code",
   "execution_count": 6,
   "metadata": {
    "collapsed": true
   },
   "outputs": [],
   "source": [
    "# Practice Problem.\n",
    "# 1. In the code stub, use Gaussian Naive Bayes model to predict the accuracy on the test iris data (use 2 features)\n",
    "# 2. In the code stub, use Multinomial Naive Bayes model to predict the accuracy on the test iris data (use 2 features)"
   ]
  },
  {
   "cell_type": "code",
   "execution_count": 7,
   "metadata": {
    "collapsed": false
   },
   "outputs": [],
   "source": [
    "from sklearn import datasets\n",
    "from sklearn.naive_bayes import GaussianNB\n",
    "from sklearn.model_selection import train_test_split\n",
    "import numpy as np\n",
    "\n",
    "# Load the iris dataset\n",
    "iris = datasets.load_iris()\n",
    "X = iris.data[:,:2]\n",
    "y = iris.target\n",
    "\n",
    "# Create training and test sets\n",
    "X_train, X_test, y_train, y_test = train_test_split(X, y, test_size=0.2, random_state=5)"
   ]
  },
  {
   "cell_type": "code",
   "execution_count": null,
   "metadata": {
    "collapsed": false
   },
   "outputs": [],
   "source": []
  },
  {
   "cell_type": "code",
   "execution_count": 8,
   "metadata": {
    "collapsed": false
   },
   "outputs": [
    {
     "name": "stdout",
     "output_type": "stream",
     "text": [
      "Training accuracy = 0.775\n",
      "Test accuracy = 0.766666666667\n"
     ]
    }
   ],
   "source": [
    "# Initialize Gaussian Naive Bayes\n",
    "gnb = GaussianNB()\n",
    "# Train the classifier\n",
    "gnb.fit(X_train, y_train)\n",
    "# Make predictions on test data\n",
    "y_pred = gnb.predict(X_test)\n",
    "y_train_pred = gnb.predict(X_train)\n",
    "\n",
    "# print the accuracy\n",
    "print ('Training accuracy = ' + str(np.sum(y_train_pred == y_train)/len(y_train)))\n",
    "print ('Test accuracy = ' + str(np.sum(y_pred == y_test)/len(y_test)))"
   ]
  },
  {
   "cell_type": "markdown",
   "metadata": {},
   "source": [
    "Now let's repeat this with Multinomial Naive Bayes"
   ]
  },
  {
   "cell_type": "code",
   "execution_count": 9,
   "metadata": {
    "collapsed": false
   },
   "outputs": [
    {
     "name": "stdout",
     "output_type": "stream",
     "text": [
      "Validation accuracy = 0.208333333333 at alpha = 0.1\n",
      "Validation accuracy = 0.208333333333 at alpha = 0.5\n",
      "Validation accuracy = 0.208333333333 at alpha = 1\n",
      "Validation accuracy = 0.208333333333 at alpha = 2\n",
      "Validation accuracy = 0.208333333333 at alpha = 3\n",
      "Validation accuracy = 0.208333333333 at alpha = 4\n",
      "Validation accuracy = 0.208333333333 at alpha = 5\n",
      "Validation accuracy = 0.166666666667 at alpha = 10\n",
      "Validation accuracy = 0.166666666667 at alpha = 100\n",
      "Best alpha = 0.1\n",
      "Training accuracy = 0.616666666667\n",
      "Test accuracy = 0.7\n"
     ]
    }
   ],
   "source": [
    "from sklearn.naive_bayes import MultinomialNB\n",
    "\n",
    "# Create validation set from training set\n",
    "X_train, X_valid, y_train, y_valid = train_test_split(X_train, y_train, test_size=0.2)\n",
    "\n",
    "alphas = [0.1, 0.5, 1, 2, 3, 4, 5, 10, 100]\n",
    "best_alpha = 0.1\n",
    "best_acc = 0.0\n",
    "\n",
    "for alpha in alphas:\n",
    "    # Initialize\n",
    "    clf = MultinomialNB(alpha=alpha)\n",
    "    # Train\n",
    "    clf.fit(X_train, y_train)\n",
    "    # Make predictions on validation data\n",
    "    y_pred = clf.predict(X_valid)\n",
    "    accuracy = np.sum(y_pred == y_valid)/len(y_valid)\n",
    "    print ('Validation accuracy = ' + str(accuracy) + ' at alpha = ' + str(alpha))\n",
    "    if accuracy > best_acc:\n",
    "        best_acc = accuracy\n",
    "        best_alpha = alpha\n",
    "\n",
    "print ('Best alpha = ' + str(best_alpha))        \n",
    "        \n",
    "X_train = np.concatenate((X_train, X_valid))\n",
    "y_train = np.concatenate((y_train, y_valid))\n",
    "\n",
    "clf = MultinomialNB(alpha=best_alpha)\n",
    "clf.fit(X_train, y_train)\n",
    "y_pred = clf.predict(X_test)\n",
    "y_train_pred = clf.predict(X_train)\n",
    "\n",
    "# print the accuracy\n",
    "print ('Training accuracy = ' + str(np.sum(y_train_pred == y_train)/len(y_train)))\n",
    "print ('Test accuracy = ' + str(np.sum(y_pred == y_test)/len(y_test)))"
   ]
  },
  {
   "cell_type": "markdown",
   "metadata": {},
   "source": [
    "Multi-class Discriminant Analysis using LinearDiscriminantAnalysis"
   ]
  },
  {
   "cell_type": "code",
   "execution_count": null,
   "metadata": {
    "collapsed": false
   },
   "outputs": [],
   "source": []
  },
  {
   "cell_type": "code",
   "execution_count": null,
   "metadata": {
    "collapsed": true
   },
   "outputs": [],
   "source": []
  }
 ],
 "metadata": {
  "anaconda-cloud": {},
  "kernelspec": {
   "display_name": "Python [py35]",
   "language": "python",
   "name": "Python [py35]"
  },
  "language_info": {
   "codemirror_mode": {
    "name": "ipython",
    "version": 3
   },
   "file_extension": ".py",
   "mimetype": "text/x-python",
   "name": "python",
   "nbconvert_exporter": "python",
   "pygments_lexer": "ipython3",
   "version": "3.5.2"
  }
 },
 "nbformat": 4,
 "nbformat_minor": 0
}
